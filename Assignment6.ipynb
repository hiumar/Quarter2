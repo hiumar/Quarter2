{
  "nbformat": 4,
  "nbformat_minor": 0,
  "metadata": {
    "colab": {
      "provenance": [],
      "authorship_tag": "ABX9TyP+ANY8mX2+6IxYG61Lr3Qi",
      "include_colab_link": true
    },
    "kernelspec": {
      "name": "python3",
      "display_name": "Python 3"
    },
    "language_info": {
      "name": "python"
    }
  },
  "cells": [
    {
      "cell_type": "markdown",
      "metadata": {
        "id": "view-in-github",
        "colab_type": "text"
      },
      "source": [
        "<a href=\"https://colab.research.google.com/github/hiumar/Quarter2/blob/main/Assignment6.ipynb\" target=\"_parent\"><img src=\"https://colab.research.google.com/assets/colab-badge.svg\" alt=\"Open In Colab\"/></a>"
      ]
    },
    {
      "cell_type": "code",
      "execution_count": 1,
      "metadata": {
        "id": "pxhXp5e0vS5R"
      },
      "outputs": [],
      "source": [
        "from google.colab import userdata\n",
        "GEMNI_API_KEY=userdata.get('Gemni_Api_Key')"
      ]
    },
    {
      "cell_type": "code",
      "source": [
        "!pip install langchain_google_genai"
      ],
      "metadata": {
        "colab": {
          "base_uri": "https://localhost:8080/"
        },
        "id": "HmBhXlxkvsMB",
        "outputId": "1ed41590-c95c-42d9-9a95-b23358f0a618"
      },
      "execution_count": 2,
      "outputs": [
        {
          "output_type": "stream",
          "name": "stdout",
          "text": [
            "Collecting langchain_google_genai\n",
            "  Downloading langchain_google_genai-2.0.7-py3-none-any.whl.metadata (3.6 kB)\n",
            "Collecting filetype<2.0.0,>=1.2.0 (from langchain_google_genai)\n",
            "  Downloading filetype-1.2.0-py2.py3-none-any.whl.metadata (6.5 kB)\n",
            "Requirement already satisfied: google-generativeai<0.9.0,>=0.8.0 in /usr/local/lib/python3.10/dist-packages (from langchain_google_genai) (0.8.3)\n",
            "Requirement already satisfied: langchain-core<0.4,>=0.3.15 in /usr/local/lib/python3.10/dist-packages (from langchain_google_genai) (0.3.25)\n",
            "Requirement already satisfied: pydantic<3,>=2 in /usr/local/lib/python3.10/dist-packages (from langchain_google_genai) (2.10.3)\n",
            "Requirement already satisfied: google-ai-generativelanguage==0.6.10 in /usr/local/lib/python3.10/dist-packages (from google-generativeai<0.9.0,>=0.8.0->langchain_google_genai) (0.6.10)\n",
            "Requirement already satisfied: google-api-core in /usr/local/lib/python3.10/dist-packages (from google-generativeai<0.9.0,>=0.8.0->langchain_google_genai) (2.19.2)\n",
            "Requirement already satisfied: google-api-python-client in /usr/local/lib/python3.10/dist-packages (from google-generativeai<0.9.0,>=0.8.0->langchain_google_genai) (2.155.0)\n",
            "Requirement already satisfied: google-auth>=2.15.0 in /usr/local/lib/python3.10/dist-packages (from google-generativeai<0.9.0,>=0.8.0->langchain_google_genai) (2.27.0)\n",
            "Requirement already satisfied: protobuf in /usr/local/lib/python3.10/dist-packages (from google-generativeai<0.9.0,>=0.8.0->langchain_google_genai) (4.25.5)\n",
            "Requirement already satisfied: tqdm in /usr/local/lib/python3.10/dist-packages (from google-generativeai<0.9.0,>=0.8.0->langchain_google_genai) (4.67.1)\n",
            "Requirement already satisfied: typing-extensions in /usr/local/lib/python3.10/dist-packages (from google-generativeai<0.9.0,>=0.8.0->langchain_google_genai) (4.12.2)\n",
            "Requirement already satisfied: proto-plus<2.0.0dev,>=1.22.3 in /usr/local/lib/python3.10/dist-packages (from google-ai-generativelanguage==0.6.10->google-generativeai<0.9.0,>=0.8.0->langchain_google_genai) (1.25.0)\n",
            "Requirement already satisfied: PyYAML>=5.3 in /usr/local/lib/python3.10/dist-packages (from langchain-core<0.4,>=0.3.15->langchain_google_genai) (6.0.2)\n",
            "Requirement already satisfied: jsonpatch<2.0,>=1.33 in /usr/local/lib/python3.10/dist-packages (from langchain-core<0.4,>=0.3.15->langchain_google_genai) (1.33)\n",
            "Requirement already satisfied: langsmith<0.3,>=0.1.125 in /usr/local/lib/python3.10/dist-packages (from langchain-core<0.4,>=0.3.15->langchain_google_genai) (0.2.3)\n",
            "Requirement already satisfied: packaging<25,>=23.2 in /usr/local/lib/python3.10/dist-packages (from langchain-core<0.4,>=0.3.15->langchain_google_genai) (24.2)\n",
            "Requirement already satisfied: tenacity!=8.4.0,<10.0.0,>=8.1.0 in /usr/local/lib/python3.10/dist-packages (from langchain-core<0.4,>=0.3.15->langchain_google_genai) (9.0.0)\n",
            "Requirement already satisfied: annotated-types>=0.6.0 in /usr/local/lib/python3.10/dist-packages (from pydantic<3,>=2->langchain_google_genai) (0.7.0)\n",
            "Requirement already satisfied: pydantic-core==2.27.1 in /usr/local/lib/python3.10/dist-packages (from pydantic<3,>=2->langchain_google_genai) (2.27.1)\n",
            "Requirement already satisfied: googleapis-common-protos<2.0.dev0,>=1.56.2 in /usr/local/lib/python3.10/dist-packages (from google-api-core->google-generativeai<0.9.0,>=0.8.0->langchain_google_genai) (1.66.0)\n",
            "Requirement already satisfied: requests<3.0.0.dev0,>=2.18.0 in /usr/local/lib/python3.10/dist-packages (from google-api-core->google-generativeai<0.9.0,>=0.8.0->langchain_google_genai) (2.32.3)\n",
            "Requirement already satisfied: cachetools<6.0,>=2.0.0 in /usr/local/lib/python3.10/dist-packages (from google-auth>=2.15.0->google-generativeai<0.9.0,>=0.8.0->langchain_google_genai) (5.5.0)\n",
            "Requirement already satisfied: pyasn1-modules>=0.2.1 in /usr/local/lib/python3.10/dist-packages (from google-auth>=2.15.0->google-generativeai<0.9.0,>=0.8.0->langchain_google_genai) (0.4.1)\n",
            "Requirement already satisfied: rsa<5,>=3.1.4 in /usr/local/lib/python3.10/dist-packages (from google-auth>=2.15.0->google-generativeai<0.9.0,>=0.8.0->langchain_google_genai) (4.9)\n",
            "Requirement already satisfied: jsonpointer>=1.9 in /usr/local/lib/python3.10/dist-packages (from jsonpatch<2.0,>=1.33->langchain-core<0.4,>=0.3.15->langchain_google_genai) (3.0.0)\n",
            "Requirement already satisfied: httpx<1,>=0.23.0 in /usr/local/lib/python3.10/dist-packages (from langsmith<0.3,>=0.1.125->langchain-core<0.4,>=0.3.15->langchain_google_genai) (0.28.1)\n",
            "Requirement already satisfied: orjson<4.0.0,>=3.9.14 in /usr/local/lib/python3.10/dist-packages (from langsmith<0.3,>=0.1.125->langchain-core<0.4,>=0.3.15->langchain_google_genai) (3.10.12)\n",
            "Requirement already satisfied: requests-toolbelt<2.0.0,>=1.0.0 in /usr/local/lib/python3.10/dist-packages (from langsmith<0.3,>=0.1.125->langchain-core<0.4,>=0.3.15->langchain_google_genai) (1.0.0)\n",
            "Requirement already satisfied: httplib2<1.dev0,>=0.19.0 in /usr/local/lib/python3.10/dist-packages (from google-api-python-client->google-generativeai<0.9.0,>=0.8.0->langchain_google_genai) (0.22.0)\n",
            "Requirement already satisfied: google-auth-httplib2<1.0.0,>=0.2.0 in /usr/local/lib/python3.10/dist-packages (from google-api-python-client->google-generativeai<0.9.0,>=0.8.0->langchain_google_genai) (0.2.0)\n",
            "Requirement already satisfied: uritemplate<5,>=3.0.1 in /usr/local/lib/python3.10/dist-packages (from google-api-python-client->google-generativeai<0.9.0,>=0.8.0->langchain_google_genai) (4.1.1)\n",
            "Requirement already satisfied: grpcio<2.0dev,>=1.33.2 in /usr/local/lib/python3.10/dist-packages (from google-api-core[grpc]!=2.0.*,!=2.1.*,!=2.10.*,!=2.2.*,!=2.3.*,!=2.4.*,!=2.5.*,!=2.6.*,!=2.7.*,!=2.8.*,!=2.9.*,<3.0.0dev,>=1.34.1->google-ai-generativelanguage==0.6.10->google-generativeai<0.9.0,>=0.8.0->langchain_google_genai) (1.68.1)\n",
            "Requirement already satisfied: grpcio-status<2.0.dev0,>=1.33.2 in /usr/local/lib/python3.10/dist-packages (from google-api-core[grpc]!=2.0.*,!=2.1.*,!=2.10.*,!=2.2.*,!=2.3.*,!=2.4.*,!=2.5.*,!=2.6.*,!=2.7.*,!=2.8.*,!=2.9.*,<3.0.0dev,>=1.34.1->google-ai-generativelanguage==0.6.10->google-generativeai<0.9.0,>=0.8.0->langchain_google_genai) (1.62.3)\n",
            "Requirement already satisfied: pyparsing!=3.0.0,!=3.0.1,!=3.0.2,!=3.0.3,<4,>=2.4.2 in /usr/local/lib/python3.10/dist-packages (from httplib2<1.dev0,>=0.19.0->google-api-python-client->google-generativeai<0.9.0,>=0.8.0->langchain_google_genai) (3.2.0)\n",
            "Requirement already satisfied: anyio in /usr/local/lib/python3.10/dist-packages (from httpx<1,>=0.23.0->langsmith<0.3,>=0.1.125->langchain-core<0.4,>=0.3.15->langchain_google_genai) (3.7.1)\n",
            "Requirement already satisfied: certifi in /usr/local/lib/python3.10/dist-packages (from httpx<1,>=0.23.0->langsmith<0.3,>=0.1.125->langchain-core<0.4,>=0.3.15->langchain_google_genai) (2024.12.14)\n",
            "Requirement already satisfied: httpcore==1.* in /usr/local/lib/python3.10/dist-packages (from httpx<1,>=0.23.0->langsmith<0.3,>=0.1.125->langchain-core<0.4,>=0.3.15->langchain_google_genai) (1.0.7)\n",
            "Requirement already satisfied: idna in /usr/local/lib/python3.10/dist-packages (from httpx<1,>=0.23.0->langsmith<0.3,>=0.1.125->langchain-core<0.4,>=0.3.15->langchain_google_genai) (3.10)\n",
            "Requirement already satisfied: h11<0.15,>=0.13 in /usr/local/lib/python3.10/dist-packages (from httpcore==1.*->httpx<1,>=0.23.0->langsmith<0.3,>=0.1.125->langchain-core<0.4,>=0.3.15->langchain_google_genai) (0.14.0)\n",
            "Requirement already satisfied: pyasn1<0.7.0,>=0.4.6 in /usr/local/lib/python3.10/dist-packages (from pyasn1-modules>=0.2.1->google-auth>=2.15.0->google-generativeai<0.9.0,>=0.8.0->langchain_google_genai) (0.6.1)\n",
            "Requirement already satisfied: charset-normalizer<4,>=2 in /usr/local/lib/python3.10/dist-packages (from requests<3.0.0.dev0,>=2.18.0->google-api-core->google-generativeai<0.9.0,>=0.8.0->langchain_google_genai) (3.4.0)\n",
            "Requirement already satisfied: urllib3<3,>=1.21.1 in /usr/local/lib/python3.10/dist-packages (from requests<3.0.0.dev0,>=2.18.0->google-api-core->google-generativeai<0.9.0,>=0.8.0->langchain_google_genai) (2.2.3)\n",
            "Requirement already satisfied: sniffio>=1.1 in /usr/local/lib/python3.10/dist-packages (from anyio->httpx<1,>=0.23.0->langsmith<0.3,>=0.1.125->langchain-core<0.4,>=0.3.15->langchain_google_genai) (1.3.1)\n",
            "Requirement already satisfied: exceptiongroup in /usr/local/lib/python3.10/dist-packages (from anyio->httpx<1,>=0.23.0->langsmith<0.3,>=0.1.125->langchain-core<0.4,>=0.3.15->langchain_google_genai) (1.2.2)\n",
            "Downloading langchain_google_genai-2.0.7-py3-none-any.whl (41 kB)\n",
            "\u001b[2K   \u001b[90m━━━━━━━━━━━━━━━━━━━━━━━━━━━━━━━━━━━━━━━━\u001b[0m \u001b[32m41.3/41.3 kB\u001b[0m \u001b[31m1.5 MB/s\u001b[0m eta \u001b[36m0:00:00\u001b[0m\n",
            "\u001b[?25hDownloading filetype-1.2.0-py2.py3-none-any.whl (19 kB)\n",
            "Installing collected packages: filetype, langchain_google_genai\n",
            "Successfully installed filetype-1.2.0 langchain_google_genai-2.0.7\n"
          ]
        }
      ]
    },
    {
      "cell_type": "code",
      "source": [
        "from langchain_google_genai import ChatGoogleGenerativeAI"
      ],
      "metadata": {
        "id": "5SuQXacRv58T"
      },
      "execution_count": 3,
      "outputs": []
    },
    {
      "cell_type": "code",
      "source": [
        "llm=ChatGoogleGenerativeAI(\n",
        "    apki_key=GEMNI_API_KEY,\n",
        "    model=\"gemini-2.0-flash-exp\",\n",
        "\n",
        ")"
      ],
      "metadata": {
        "id": "zfFIi6hbwHmw"
      },
      "execution_count": 6,
      "outputs": []
    },
    {
      "cell_type": "code",
      "source": [
        "from google.colab import files\n",
        "uploaded=files.upload()\n",
        "for file_name in uploaded.keys():\n",
        "  print(file_name)"
      ],
      "metadata": {
        "colab": {
          "base_uri": "https://localhost:8080/",
          "height": 128
        },
        "id": "ZoGfWZ7LBW4_",
        "outputId": "8402c305-ad8e-4402-c10a-b71c05d00eeb"
      },
      "execution_count": 7,
      "outputs": [
        {
          "output_type": "display_data",
          "data": {
            "text/plain": [
              "<IPython.core.display.HTML object>"
            ],
            "text/html": [
              "\n",
              "     <input type=\"file\" id=\"files-6b51e4a8-e5dc-407f-85a5-5669116fc8a8\" name=\"files[]\" multiple disabled\n",
              "        style=\"border:none\" />\n",
              "     <output id=\"result-6b51e4a8-e5dc-407f-85a5-5669116fc8a8\">\n",
              "      Upload widget is only available when the cell has been executed in the\n",
              "      current browser session. Please rerun this cell to enable.\n",
              "      </output>\n",
              "      <script>// Copyright 2017 Google LLC\n",
              "//\n",
              "// Licensed under the Apache License, Version 2.0 (the \"License\");\n",
              "// you may not use this file except in compliance with the License.\n",
              "// You may obtain a copy of the License at\n",
              "//\n",
              "//      http://www.apache.org/licenses/LICENSE-2.0\n",
              "//\n",
              "// Unless required by applicable law or agreed to in writing, software\n",
              "// distributed under the License is distributed on an \"AS IS\" BASIS,\n",
              "// WITHOUT WARRANTIES OR CONDITIONS OF ANY KIND, either express or implied.\n",
              "// See the License for the specific language governing permissions and\n",
              "// limitations under the License.\n",
              "\n",
              "/**\n",
              " * @fileoverview Helpers for google.colab Python module.\n",
              " */\n",
              "(function(scope) {\n",
              "function span(text, styleAttributes = {}) {\n",
              "  const element = document.createElement('span');\n",
              "  element.textContent = text;\n",
              "  for (const key of Object.keys(styleAttributes)) {\n",
              "    element.style[key] = styleAttributes[key];\n",
              "  }\n",
              "  return element;\n",
              "}\n",
              "\n",
              "// Max number of bytes which will be uploaded at a time.\n",
              "const MAX_PAYLOAD_SIZE = 100 * 1024;\n",
              "\n",
              "function _uploadFiles(inputId, outputId) {\n",
              "  const steps = uploadFilesStep(inputId, outputId);\n",
              "  const outputElement = document.getElementById(outputId);\n",
              "  // Cache steps on the outputElement to make it available for the next call\n",
              "  // to uploadFilesContinue from Python.\n",
              "  outputElement.steps = steps;\n",
              "\n",
              "  return _uploadFilesContinue(outputId);\n",
              "}\n",
              "\n",
              "// This is roughly an async generator (not supported in the browser yet),\n",
              "// where there are multiple asynchronous steps and the Python side is going\n",
              "// to poll for completion of each step.\n",
              "// This uses a Promise to block the python side on completion of each step,\n",
              "// then passes the result of the previous step as the input to the next step.\n",
              "function _uploadFilesContinue(outputId) {\n",
              "  const outputElement = document.getElementById(outputId);\n",
              "  const steps = outputElement.steps;\n",
              "\n",
              "  const next = steps.next(outputElement.lastPromiseValue);\n",
              "  return Promise.resolve(next.value.promise).then((value) => {\n",
              "    // Cache the last promise value to make it available to the next\n",
              "    // step of the generator.\n",
              "    outputElement.lastPromiseValue = value;\n",
              "    return next.value.response;\n",
              "  });\n",
              "}\n",
              "\n",
              "/**\n",
              " * Generator function which is called between each async step of the upload\n",
              " * process.\n",
              " * @param {string} inputId Element ID of the input file picker element.\n",
              " * @param {string} outputId Element ID of the output display.\n",
              " * @return {!Iterable<!Object>} Iterable of next steps.\n",
              " */\n",
              "function* uploadFilesStep(inputId, outputId) {\n",
              "  const inputElement = document.getElementById(inputId);\n",
              "  inputElement.disabled = false;\n",
              "\n",
              "  const outputElement = document.getElementById(outputId);\n",
              "  outputElement.innerHTML = '';\n",
              "\n",
              "  const pickedPromise = new Promise((resolve) => {\n",
              "    inputElement.addEventListener('change', (e) => {\n",
              "      resolve(e.target.files);\n",
              "    });\n",
              "  });\n",
              "\n",
              "  const cancel = document.createElement('button');\n",
              "  inputElement.parentElement.appendChild(cancel);\n",
              "  cancel.textContent = 'Cancel upload';\n",
              "  const cancelPromise = new Promise((resolve) => {\n",
              "    cancel.onclick = () => {\n",
              "      resolve(null);\n",
              "    };\n",
              "  });\n",
              "\n",
              "  // Wait for the user to pick the files.\n",
              "  const files = yield {\n",
              "    promise: Promise.race([pickedPromise, cancelPromise]),\n",
              "    response: {\n",
              "      action: 'starting',\n",
              "    }\n",
              "  };\n",
              "\n",
              "  cancel.remove();\n",
              "\n",
              "  // Disable the input element since further picks are not allowed.\n",
              "  inputElement.disabled = true;\n",
              "\n",
              "  if (!files) {\n",
              "    return {\n",
              "      response: {\n",
              "        action: 'complete',\n",
              "      }\n",
              "    };\n",
              "  }\n",
              "\n",
              "  for (const file of files) {\n",
              "    const li = document.createElement('li');\n",
              "    li.append(span(file.name, {fontWeight: 'bold'}));\n",
              "    li.append(span(\n",
              "        `(${file.type || 'n/a'}) - ${file.size} bytes, ` +\n",
              "        `last modified: ${\n",
              "            file.lastModifiedDate ? file.lastModifiedDate.toLocaleDateString() :\n",
              "                                    'n/a'} - `));\n",
              "    const percent = span('0% done');\n",
              "    li.appendChild(percent);\n",
              "\n",
              "    outputElement.appendChild(li);\n",
              "\n",
              "    const fileDataPromise = new Promise((resolve) => {\n",
              "      const reader = new FileReader();\n",
              "      reader.onload = (e) => {\n",
              "        resolve(e.target.result);\n",
              "      };\n",
              "      reader.readAsArrayBuffer(file);\n",
              "    });\n",
              "    // Wait for the data to be ready.\n",
              "    let fileData = yield {\n",
              "      promise: fileDataPromise,\n",
              "      response: {\n",
              "        action: 'continue',\n",
              "      }\n",
              "    };\n",
              "\n",
              "    // Use a chunked sending to avoid message size limits. See b/62115660.\n",
              "    let position = 0;\n",
              "    do {\n",
              "      const length = Math.min(fileData.byteLength - position, MAX_PAYLOAD_SIZE);\n",
              "      const chunk = new Uint8Array(fileData, position, length);\n",
              "      position += length;\n",
              "\n",
              "      const base64 = btoa(String.fromCharCode.apply(null, chunk));\n",
              "      yield {\n",
              "        response: {\n",
              "          action: 'append',\n",
              "          file: file.name,\n",
              "          data: base64,\n",
              "        },\n",
              "      };\n",
              "\n",
              "      let percentDone = fileData.byteLength === 0 ?\n",
              "          100 :\n",
              "          Math.round((position / fileData.byteLength) * 100);\n",
              "      percent.textContent = `${percentDone}% done`;\n",
              "\n",
              "    } while (position < fileData.byteLength);\n",
              "  }\n",
              "\n",
              "  // All done.\n",
              "  yield {\n",
              "    response: {\n",
              "      action: 'complete',\n",
              "    }\n",
              "  };\n",
              "}\n",
              "\n",
              "scope.google = scope.google || {};\n",
              "scope.google.colab = scope.google.colab || {};\n",
              "scope.google.colab._files = {\n",
              "  _uploadFiles,\n",
              "  _uploadFilesContinue,\n",
              "};\n",
              "})(self);\n",
              "</script> "
            ]
          },
          "metadata": {}
        },
        {
          "output_type": "stream",
          "name": "stdout",
          "text": [
            "Saving WhatsApp Video 2025-01-05 at 1.05.11 AM.mp4 to WhatsApp Video 2025-01-05 at 1.05.11 AM.mp4\n",
            "WhatsApp Video 2025-01-05 at 1.05.11 AM.mp4\n"
          ]
        }
      ]
    },
    {
      "cell_type": "code",
      "source": [
        "from google import genai\n",
        "from google.genai  import Client"
      ],
      "metadata": {
        "id": "slZSeeh-C6_W"
      },
      "execution_count": 10,
      "outputs": []
    },
    {
      "cell_type": "code",
      "source": [
        "model:str=\"gemini-2.0-flash-exp\"\n",
        "client:Client=genai.Client(api_key=GEMNI_API_KEY)"
      ],
      "metadata": {
        "id": "QyMccHL0F4Y_"
      },
      "execution_count": 17,
      "outputs": []
    },
    {
      "cell_type": "code",
      "source": [
        "import time\n",
        "def upload_video(video_file_name):\n",
        "  video_file=client.files.upload(path=\"/content/demo.mp4\")\n",
        "  while video_file.state == \"PROCESSING\":\n",
        "    print(\"Processing...\")\n",
        "    time.sleep(10)\n",
        "    video_file=client.files.get(name=video_file.name or \"\")\n",
        "\n",
        "  if video_file.state == \"ERROR\":\n",
        "    raise Exception(f\"Error uploading video: {video_file.error}\")\n",
        "\n",
        "  print(f'video procesing complete : '+ (video_file.uri or \" \"))\n",
        "  return video_file\n",
        "\n",
        "my_video=upload_video(\"demo.mp4\")"
      ],
      "metadata": {
        "colab": {
          "base_uri": "https://localhost:8080/"
        },
        "id": "Wa0BWUnwIlQe",
        "outputId": "a0277b3d-32bc-413c-8ce8-889db3d1f568"
      },
      "execution_count": 19,
      "outputs": [
        {
          "output_type": "stream",
          "name": "stdout",
          "text": [
            "Processing...\n",
            "video procesing complete : https://generativelanguage.googleapis.com/v1beta/files/q611cwvpjfq6\n"
          ]
        }
      ]
    },
    {
      "cell_type": "code",
      "source": [
        "from IPython.display import Markdown, display\n",
        "from google.genai.types import Content,Part\n",
        "prompt=\"\"\"For each scene in this video generate caption that describe the scene along with any spkoen text place\n",
        "in qutation marks place each caption into an object with timecode of the caption in the video\"\"\"\n",
        "video=my_video\n",
        "response = client.models.generate_content(\n",
        "    model=model,\n",
        "    contents=[\n",
        "        Content(\n",
        "            role=\"user\",\n",
        "            parts=[Part.from_uri (file_uri=video.uri or \"\", mime_type=video.mime_type or \"\")]\n",
        "                ),\n",
        "        prompt,\n",
        "\n",
        "           ]\n",
        ")\n",
        "print(response.text)"
      ],
      "metadata": {
        "colab": {
          "base_uri": "https://localhost:8080/"
        },
        "id": "ojsWaxHQVjeS",
        "outputId": "37afe9d3-9a27-43e3-91a9-a3a4fb54f0ed"
      },
      "execution_count": 21,
      "outputs": [
        {
          "output_type": "stream",
          "name": "stdout",
          "text": [
            "```json\n",
            "[\n",
            "  {\n",
            "    \"timecode\": \"00:00\",\n",
            "    \"caption\": \"The scene opens with a view of a group of people on a walkway, with a light blue railing and light blue water on one side of the walkway and a light cloudy sky above. Tall buildings are visible in the background.\"\n",
            "  },\n",
            "  {\n",
            "    \"timecode\": \"00:01\",\n",
            "    \"caption\": \"The view shifts to show a line of land across the light blue water with a line of trees on the horizon. The sky is light blue with some clouds.\"\n",
            "  },\n",
            "  {\n",
            "    \"timecode\":\"00:02\",\n",
            "    \"caption\":\"The camera shifts to show the ocean with a yellow buoy in the distance\"\n",
            "  },\n",
            "  {\n",
            "    \"timecode\":\"00:03\",\n",
            "     \"caption\":\"The scene shows a view of an open ocean with a line of land in the distance\"\n",
            "  },\n",
            "   {\n",
            "    \"timecode\":\"00:06\",\n",
            "     \"caption\":\"The scene shows a light blue hand rail along a walkway with a view of city buildings and the ocean\"\n",
            "  },\n",
            "    {\n",
            "    \"timecode\":\"00:10\",\n",
            "     \"caption\":\"The camera shows a city view from the walkway\"\n",
            "  },\n",
            "    {\n",
            "    \"timecode\":\"00:11\",\n",
            "     \"caption\":\"The camera pans back to view the city from the end of the walkway\"\n",
            "  }\n",
            "]\n",
            "```\n"
          ]
        }
      ]
    },
    {
      "cell_type": "code",
      "source": [
        "!pip install gtts"
      ],
      "metadata": {
        "colab": {
          "base_uri": "https://localhost:8080/"
        },
        "id": "WlWyjmFgY6jC",
        "outputId": "1aa5a0c2-c824-4638-a0ed-ff5a1b57fa8e"
      },
      "execution_count": 25,
      "outputs": [
        {
          "output_type": "stream",
          "name": "stdout",
          "text": [
            "Collecting gtts\n",
            "  Downloading gTTS-2.5.4-py3-none-any.whl.metadata (4.1 kB)\n",
            "Requirement already satisfied: requests<3,>=2.27 in /usr/local/lib/python3.10/dist-packages (from gtts) (2.32.3)\n",
            "Requirement already satisfied: click<8.2,>=7.1 in /usr/local/lib/python3.10/dist-packages (from gtts) (8.1.7)\n",
            "Requirement already satisfied: charset-normalizer<4,>=2 in /usr/local/lib/python3.10/dist-packages (from requests<3,>=2.27->gtts) (3.4.0)\n",
            "Requirement already satisfied: idna<4,>=2.5 in /usr/local/lib/python3.10/dist-packages (from requests<3,>=2.27->gtts) (3.10)\n",
            "Requirement already satisfied: urllib3<3,>=1.21.1 in /usr/local/lib/python3.10/dist-packages (from requests<3,>=2.27->gtts) (2.2.3)\n",
            "Requirement already satisfied: certifi>=2017.4.17 in /usr/local/lib/python3.10/dist-packages (from requests<3,>=2.27->gtts) (2024.12.14)\n",
            "Downloading gTTS-2.5.4-py3-none-any.whl (29 kB)\n",
            "Installing collected packages: gtts\n",
            "Successfully installed gtts-2.5.4\n"
          ]
        }
      ]
    },
    {
      "cell_type": "code",
      "source": [
        "!pip install playsound"
      ],
      "metadata": {
        "colab": {
          "base_uri": "https://localhost:8080/"
        },
        "id": "etH1bvwoZJK-",
        "outputId": "4236303e-ded9-418d-befb-cd54c4b88231"
      },
      "execution_count": 27,
      "outputs": [
        {
          "output_type": "stream",
          "name": "stdout",
          "text": [
            "Collecting playsound\n",
            "  Downloading playsound-1.3.0.tar.gz (7.7 kB)\n",
            "  Preparing metadata (setup.py) ... \u001b[?25l\u001b[?25hdone\n",
            "Building wheels for collected packages: playsound\n",
            "  Building wheel for playsound (setup.py) ... \u001b[?25l\u001b[?25hdone\n",
            "  Created wheel for playsound: filename=playsound-1.3.0-py3-none-any.whl size=7020 sha256=66a1853498331b0b900f985d60ca4449fc6b5f9051404475aa4e8fff592d9364\n",
            "  Stored in directory: /root/.cache/pip/wheels/90/89/ed/2d643f4226fc8c7c9156fc28abd8051e2d2c0de37ae51ac45c\n",
            "Successfully built playsound\n",
            "Installing collected packages: playsound\n",
            "Successfully installed playsound-1.3.0\n"
          ]
        }
      ]
    },
    {
      "cell_type": "code",
      "source": [
        "\n",
        "from gtts import gTTS\n",
        "from playsound import playsound\n",
        "from IPython.display import Audio\n",
        "\n",
        "tts=gTTS(text=\"Hello my name is Umar Faraz and I am student of PIAIC Lahore and I am learning Agentic ai\",lang='en')\n",
        "\n",
        "with open (\"output.mp3\",\"wb\") as f:\n",
        "       for chunk in tts.stream():\n",
        "           f.write(chunk)\n",
        "\n",
        "display(Audio(\"output.mp3\",autoplay=True))"
      ],
      "metadata": {
        "colab": {
          "base_uri": "https://localhost:8080/",
          "height": 112
        },
        "id": "jC8dDf3fYkJc",
        "outputId": "84adbf2d-ad05-424e-9693-a6e295f0ba20"
      },
      "execution_count": 28,
      "outputs": [
        {
          "output_type": "stream",
          "name": "stderr",
          "text": [
            "WARNING:playsound:playsound is relying on another python subprocess. Please use `pip install pygobject` if you want playsound to run more efficiently.\n"
          ]
        },
        {
          "output_type": "display_data",
          "data": {
            "text/plain": [
              "<IPython.lib.display.Audio object>"
            ],
            "text/html": [
              "\n",
              "                <audio  controls=\"controls\" autoplay=\"autoplay\">\n",
              "                    <source src=\"data:audio/mpeg;base64,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\" type=\"audio/mpeg\" />\n",
              "                    Your browser does not support the audio element.\n",
              "                </audio>\n",
              "              "
            ]
          },
          "metadata": {}
        }
      ]
    }
  ]
}