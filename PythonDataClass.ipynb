{
  "nbformat": 4,
  "nbformat_minor": 0,
  "metadata": {
    "colab": {
      "provenance": [],
      "authorship_tag": "ABX9TyPPG5Bo1e2+HXn0YTpOqYqQ",
      "include_colab_link": true
    },
    "kernelspec": {
      "name": "python3",
      "display_name": "Python 3"
    },
    "language_info": {
      "name": "python"
    }
  },
  "cells": [
    {
      "cell_type": "markdown",
      "metadata": {
        "id": "view-in-github",
        "colab_type": "text"
      },
      "source": [
        "<a href=\"https://colab.research.google.com/github/hiumar/Quarter2/blob/main/PythonDataClass.ipynb\" target=\"_parent\"><img src=\"https://colab.research.google.com/assets/colab-badge.svg\" alt=\"Open In Colab\"/></a>"
      ]
    },
    {
      "cell_type": "code",
      "execution_count": null,
      "metadata": {
        "id": "Wkx2pIcitw0j"
      },
      "outputs": [],
      "source": [
        "from dataclasses import dataclass\n"
      ]
    },
    {
      "cell_type": "code",
      "source": [
        "from typing import TypeVar,ClassVar\n",
        "@dataclass\n",
        "class American:\n",
        "  name:str\n",
        "  age:int\n",
        "  weight:float\n",
        "  height:float\n",
        "  language:ClassVar[str]=\"English\"\n",
        "\n",
        "  def eats(self):\n",
        "    return f\"{self.name} eats\"\n",
        "\n",
        "  def speaks(self):\n",
        "    return f\"{self.name}  is spkeakng {American.language}\"\n",
        "\n",
        "  @staticmethod\n",
        "  def country_languages():\n",
        "    return American.language\n",
        "\n"
      ],
      "metadata": {
        "id": "Tnz-TDYot9Mb"
      },
      "execution_count": null,
      "outputs": []
    },
    {
      "cell_type": "code",
      "source": [
        "jon =American(name=\"jon\",age=20,weight=60,height=170)\n",
        "print(jon.eats())\n",
        "print(jon.speaks())\n",
        "print(jon.country_languages())"
      ],
      "metadata": {
        "colab": {
          "base_uri": "https://localhost:8080/"
        },
        "id": "EVDbsx_HxAtZ",
        "outputId": "706b19fd-100c-49d9-b8fb-362f42852ae4"
      },
      "execution_count": null,
      "outputs": [
        {
          "output_type": "stream",
          "name": "stdout",
          "text": [
            "jon eats\n",
            "jon  is spkeakng English\n",
            "English\n"
          ]
        }
      ]
    },
    {
      "cell_type": "code",
      "source": [],
      "metadata": {
        "id": "xS9HtUUFww-Z"
      },
      "execution_count": null,
      "outputs": []
    }
  ]
}